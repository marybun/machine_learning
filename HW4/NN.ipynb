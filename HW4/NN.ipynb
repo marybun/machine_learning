{
 "cells": [
  {
   "cell_type": "code",
   "execution_count": null,
   "metadata": {},
   "outputs": [],
   "source": [
    "# https://github.com/marybun/machine_learning"
   ]
  },
  {
   "cell_type": "code",
   "execution_count": 1,
   "metadata": {},
   "outputs": [],
   "source": [
    "import numpy as np\n",
    "from numpy import linalg as la\n",
    "from sklearn.datasets import fetch_openml\n",
    "from sklearn.decomposition import PCA\n",
    "import matplotlib.pyplot as plt\n",
    "from sklearn.decomposition import TruncatedSVD\n",
    "import torch\n",
    "import torch.nn as nn\n",
    "import torchvision.datasets as datasets\n",
    "import torchvision.transforms as transforms\n",
    "\n",
    "from sklearn.svm import SVC\n",
    "from sklearn.tree import DecisionTreeClassifier"
   ]
  },
  {
   "cell_type": "code",
   "execution_count": 16,
   "metadata": {},
   "outputs": [],
   "source": [
    "X=np.arange(0,31)\n",
    "Y=np.array([30, 35, 33, 32, 34, 37, 39, 38, 36, 36, 37, 39, 42, 45, 45, 41,\n",
    "40, 39, 42, 44, 47, 49, 50, 49, 46, 48, 50, 53, 55, 54, 53])\n",
    "\n",
    "# Convert the given data to tensor\n",
    "X = torch.from_numpy(X.reshape(-1, 1).astype(np.float32))\n",
    "Y = torch.from_numpy(Y.reshape(-1, 1).astype(np.float32))"
   ]
  },
  {
   "cell_type": "code",
   "execution_count": 29,
   "metadata": {},
   "outputs": [
    {
     "name": "stdout",
     "output_type": "stream",
     "text": [
      "Epoch [100/1000], Loss: 395.8096]\n",
      "Epoch [200/1000], Loss: 18.9062]\n",
      "Epoch [300/1000], Loss: 16.2812]\n",
      "Epoch [400/1000], Loss: 12.2249]\n",
      "Epoch [500/1000], Loss: 9.2865]\n",
      "Epoch [600/1000], Loss: 7.0425]\n",
      "Epoch [700/1000], Loss: 5.9362]\n",
      "Epoch [800/1000], Loss: 4.9409]\n",
      "Epoch [900/1000], Loss: 4.6553]\n",
      "Epoch [1000/1000], Loss: 5.0506]\n",
      "Training error: 5.1265\n",
      "Test error: 37.4327\n"
     ]
    }
   ],
   "source": [
    "# Take the first 20 points as training data and the rest as testing data\n",
    "X_train, Y_train = X[:20], Y[:20]\n",
    "X_test, Y_test = X[20:], Y[20:]\n",
    "\n",
    "# Define the model architecture\n",
    "class ThreeLayerNet(nn.Module):\n",
    "    def __init__(self):\n",
    "        super(ThreeLayerNet, self).__init__()\n",
    "        self.fc1 = nn.Linear(1, 10)\n",
    "        self.fc2 = nn.Linear(10, 10)\n",
    "        self.fc3 = nn.Linear(10, 1)\n",
    "\n",
    "    def forward(self, x):\n",
    "        x = torch.relu(self.fc1(x))\n",
    "        x = torch.relu(self.fc2(x))\n",
    "        x = self.fc3(x)\n",
    "        return x\n",
    "\n",
    "model = ThreeLayerNet()\n",
    "\n",
    "# Define the loss function and optimizer\n",
    "criterion = nn.MSELoss()\n",
    "optimizer = torch.optim.SGD(model.parameters(), lr = 0.001)\n",
    "\n",
    "# Train the model\n",
    "for epoch in range(1000):\n",
    "    # Forward pass\n",
    "    y_pred = model(X_train)\n",
    "\n",
    "    # Compute loss\n",
    "    loss = criterion(y_pred, Y_train)\n",
    "\n",
    "    # Backward pass and optimization\n",
    "    optimizer.zero_grad()\n",
    "    loss.backward()\n",
    "    optimizer.step()\n",
    "\n",
    "    # Print progress\n",
    "    if (epoch+1) % 100 == 0:\n",
    "        print(f'Epoch [{epoch+1}/1000], Loss: {loss.item():.4f}]')\n",
    "\n",
    "# Compute the least-square error for the training set\n",
    "y_pred_train = model(X_train)\n",
    "train_error = ((Y_train - y_pred_train)**2).mean()\n",
    "\n",
    "# Compute the least-square error for the test set\n",
    "y_pred_test = model(X_test)\n",
    "test_error = ((Y_test - y_pred_test)**2).mean()\n",
    "\n",
    "print(f'Training error: {train_error:.4f}')\n",
    "print(f'Test error: {test_error:.4f}')"
   ]
  },
  {
   "cell_type": "code",
   "execution_count": 30,
   "metadata": {},
   "outputs": [
    {
     "data": {
      "text/plain": [
       "<matplotlib.legend.Legend at 0x2058196cf10>"
      ]
     },
     "execution_count": 30,
     "metadata": {},
     "output_type": "execute_result"
    },
    {
     "data": {
      "image/png": "[encoded data removed]",
      "text/plain": [
       "<Figure size 432x288 with 1 Axes>"
      ]
     },
     "metadata": {
      "needs_background": "light"
     },
     "output_type": "display_data"
    }
   ],
   "source": [
    "plt.figure() \n",
    "plt.plot(X, Y, label='Original Data')\n",
    "plt.plot(X_train.detach().numpy(),y_pred_train.detach().numpy(), label='Fitted Training Data')\n",
    "plt.plot(X_test.detach().numpy(),y_pred_test.detach().numpy(), label='Fitted Test Data')\n",
    "plt.title('Data Fitted with a Feed Foward Neural Network (first 20 points as training)')\n",
    "plt.xlabel('X')\n",
    "plt.ylabel('Y')\n",
    "plt.legend()"
   ]
  },
  {
   "cell_type": "code",
   "execution_count": 31,
   "metadata": {},
   "outputs": [
    {
     "name": "stdout",
     "output_type": "stream",
     "text": [
      "Epoch [100/1000], Loss: 39.9750]\n",
      "Epoch [200/1000], Loss: 35.5013]\n",
      "Epoch [300/1000], Loss: 8.6145]\n",
      "Epoch [400/1000], Loss: 6.6856]\n",
      "Epoch [500/1000], Loss: 19.5971]\n",
      "Epoch [600/1000], Loss: 5.8023]\n",
      "Epoch [700/1000], Loss: 5.9335]\n",
      "Epoch [800/1000], Loss: 4.9170]\n",
      "Epoch [900/1000], Loss: 6.0211]\n",
      "Epoch [1000/1000], Loss: 4.9132]\n",
      "Training error: 4.6542\n",
      "Test error: 8.1303\n"
     ]
    }
   ],
   "source": [
    "X_train, Y_train = torch.cat((X[:10], X[20:])), torch.cat((Y[:10], Y[20:]))\n",
    "X_test, Y_test = X[10:20], Y[10:20]\n",
    "\n",
    "# Train the model\n",
    "for epoch in range(1000):\n",
    "    # Forward pass\n",
    "    y_pred = model(X_train)\n",
    "\n",
    "    # Compute loss\n",
    "    loss = criterion(y_pred, Y_train)\n",
    "\n",
    "    # Backward pass and optimization\n",
    "    optimizer.zero_grad()\n",
    "    loss.backward()\n",
    "    optimizer.step()\n",
    "\n",
    "    # Print progress\n",
    "    if (epoch+1) % 100 == 0:\n",
    "        print(f'Epoch [{epoch+1}/1000], Loss: {loss.item():.4f}]')\n",
    "\n",
    "# Compute the least-square error for the training set\n",
    "y_pred_train = model(X_train)\n",
    "train_error = ((Y_train - y_pred_train)**2).mean()\n",
    "\n",
    "# Compute the least-square error for the test set\n",
    "y_pred_test = model(X_test)\n",
    "test_error = ((Y_test - y_pred_test)**2).mean()\n",
    "\n",
    "print(f'Training error: {train_error:.4f}')\n",
    "print(f'Test error: {test_error:.4f}')"
   ]
  },
  {
   "cell_type": "code",
   "execution_count": 32,
   "metadata": {},
   "outputs": [
    {
     "data": {
      "text/plain": [
       "<matplotlib.legend.Legend at 0x205819e85b0>"
      ]
     },
     "execution_count": 32,
     "metadata": {},
     "output_type": "execute_result"
    },
    {
     "data": {
      "image/png": "[encoded data removed]",
      "text/plain": [
       "<Figure size 432x288 with 1 Axes>"
      ]
     },
     "metadata": {
      "needs_background": "light"
     },
     "output_type": "display_data"
    }
   ],
   "source": [
    "plt.figure() \n",
    "plt.plot(X, Y, label='Original Data')\n",
    "plt.plot(X_train.detach().numpy(),y_pred_train.detach().numpy(), label='Fitted Training Data')\n",
    "plt.plot(X_test.detach().numpy(),y_pred_test.detach().numpy(), label='Fitted Test Data')\n",
    "plt.title('Data Fitted with a Neural Network (middle 10 points as training)')\n",
    "plt.xlabel('X')\n",
    "plt.ylabel('Y')\n",
    "plt.legend()"
   ]
  },
  {
   "cell_type": "code",
   "execution_count": 38,
   "metadata": {},
   "outputs": [],
   "source": [
    "# Load the MNIST dataset\n",
    "train_set = datasets.MNIST(root='./data', train=True, download=True, transform=transforms.ToTensor())\n",
    "test_set = datasets.MNIST(root='./data', train=False, download=True, transform=transforms.ToTensor())\n",
    "\n",
    "# Compute the first 20 PCA modes of the training digit images\n",
    "pca = PCA(n_components=20)\n",
    "train_data = train_set.data.reshape(train_set.data.shape[0], -1).numpy()\n",
    "test_data = test_set.data.reshape(test_set.data.shape[0], -1).numpy()\n",
    "pca.fit(train_data)\n",
    "\n",
    "# Transform train and test sets into PC space and normalize the input data\n",
    "train_transform = pca.transform(train_data)\n",
    "test_transform = pca.transform(test_data)\n",
    "\n",
    "# Standardize the data to have mean 0 and standard deviation 1 (use statistics of the trainset)\n",
    "mean = train_transform.mean(axis=0)\n",
    "std = train_transform.std(axis=0)\n",
    "train_transform = (train_transform - mean) / std\n",
    "test_transform = (test_transform - mean) / std\n",
    "\n",
    "# Convert to tensor \n",
    "train_transform = torch.tensor(train_transform, dtype=torch.float32)\n",
    "test_transform = torch.tensor(test_transform, dtype=torch.float32)"
   ]
  },
  {
   "cell_type": "code",
   "execution_count": 39,
   "metadata": {},
   "outputs": [
    {
     "name": "stdout",
     "output_type": "stream",
     "text": [
      "[1, 1000] loss: 1.835\n",
      "[2, 1000] loss: 0.444\n",
      "[3, 1000] loss: 0.347\n",
      "[4, 1000] loss: 0.310\n",
      "[5, 1000] loss: 0.273\n",
      "[6, 1000] loss: 0.245\n",
      "[7, 1000] loss: 0.228\n",
      "[8, 1000] loss: 0.215\n",
      "[9, 1000] loss: 0.198\n",
      "[10, 1000] loss: 0.187\n",
      "Accuracy: 94.75%\n"
     ]
    }
   ],
   "source": [
    "# Convert to dataset\n",
    "train_set2 = torch.utils.data.TensorDataset(train_transform, train_set.targets)\n",
    "test_set2 = torch.utils.data.TensorDataset(test_transform, test_set.targets)\n",
    "\n",
    "# Convert to iterable data for loading into models\n",
    "train_loader = torch.utils.data.DataLoader(train_set2, batch_size=32, shuffle=True)\n",
    "test_loader = torch.utils.data.DataLoader(test_set2, batch_size=32, shuffle=False)\n",
    "\n",
    "# Build a feed-forward neural network to classify the digits\n",
    "class Net(torch.nn.Module):\n",
    "    def __init__(self):\n",
    "        super(Net, self).__init__()\n",
    "        self.fc1 = torch.nn.Linear(20, 50) # Input 20 features from PCA\n",
    "        self.fc2 = torch.nn.Linear(50,128)\n",
    "        self.fc3 = torch.nn.Linear(128, 10) \n",
    "\n",
    "    def forward(self, x):\n",
    "        x = torch.relu(self.fc1(x))\n",
    "        x = torch.relu(self.fc2(x))\n",
    "        x = self.fc3(x)\n",
    "        return x\n",
    "\n",
    "net = Net()\n",
    "criterion = torch.nn.CrossEntropyLoss()\n",
    "optimizer = torch.optim.SGD(net.parameters(), lr=0.01)\n",
    "\n",
    "# Train the NN on the training set and evaluate its performance on the testing set\n",
    "for epoch in range(10):\n",
    "    running_loss = 0.0\n",
    "    for i, data in enumerate(train_loader, 0):\n",
    "        inputs, labels = data\n",
    "        optimizer.zero_grad()\n",
    "\n",
    "        outputs = net(inputs)\n",
    "\n",
    "        loss = criterion(outputs, labels)\n",
    "        loss.backward()\n",
    "        optimizer.step()\n",
    "\n",
    "        running_loss += loss.item()\n",
    "\n",
    "        if i % 1000 == 999:\n",
    "            print(f\"[{epoch + 1}, {i + 1}] loss: {running_loss / 1000:.3f}\")\n",
    "            running_loss = 0.0\n",
    "\n",
    "correct = 0\n",
    "total = 0\n",
    "with torch.no_grad():\n",
    "    for data in test_loader:\n",
    "        inputs, labels = data\n",
    "        outputs = net(inputs)\n",
    "        _, predicted = torch.max(outputs.data, 1)\n",
    "        total += labels.size(0)\n",
    "        correct += (predicted == labels).sum().item()\n",
    "\n",
    "print(f\"Accuracy: {correct / total * 100:.2f}%\")"
   ]
  },
  {
   "cell_type": "code",
   "execution_count": 41,
   "metadata": {},
   "outputs": [
    {
     "name": "stdout",
     "output_type": "stream",
     "text": [
      "[1, 1000] loss: 2.250\n",
      "[2, 1000] loss: 1.823\n",
      "[3, 1000] loss: 1.168\n",
      "[4, 1000] loss: 0.758\n",
      "[5, 1000] loss: 0.577\n",
      "[6, 1000] loss: 0.482\n",
      "[7, 1000] loss: 0.446\n",
      "[8, 1000] loss: 0.421\n",
      "[9, 1000] loss: 0.395\n",
      "[10, 1000] loss: 0.378\n",
      "Accuracy: 89.87%\n"
     ]
    }
   ],
   "source": [
    "#Convert to dataset\n",
    "train_set2 = torch.utils.data.TensorDataset(train_transform.unsqueeze(1), train_set.targets)\n",
    "test_set2 = torch.utils.data.TensorDataset(test_transform.unsqueeze(1), test_set.targets)\n",
    "\n",
    "#Convert to iterable data for loading into models\n",
    "train_loader = torch.utils.data.DataLoader(train_set2, batch_size=32, shuffle=True)\n",
    "test_loader = torch.utils.data.DataLoader(test_set2, batch_size=32, shuffle=False)\n",
    "\n",
    "# Build an LSTM network to classify the digits\n",
    "class LSTM(torch.nn.Module):\n",
    "    def __init__(self):\n",
    "        super(LSTM, self).__init__()\n",
    "        self.lstm = torch.nn.LSTM(20, 50)\n",
    "        self.fc = torch.nn.Linear(50, 10)\n",
    "\n",
    "    def forward(self, x):\n",
    "        lstm_out, _ = self.lstm(x)\n",
    "        out = self.fc(lstm_out[:, -1, :])\n",
    "        return out\n",
    "\n",
    "lstm = LSTM()\n",
    "criterion = torch.nn.CrossEntropyLoss()\n",
    "optimizer = torch.optim.SGD(lstm.parameters(), lr=0.01)\n",
    "\n",
    "# Train the LSTM network on the training set and evaluate its performance on the testing set\n",
    "for epoch in range(10):\n",
    "    running_loss = 0.0\n",
    "    for i, data in enumerate(train_loader, 0):\n",
    "        inputs, labels = data\n",
    "        optimizer.zero_grad()\n",
    "\n",
    "        outputs = lstm(inputs)\n",
    "\n",
    "        loss = criterion(outputs, labels)\n",
    "        loss.backward()\n",
    "        optimizer.step()\n",
    "\n",
    "        running_loss += loss.item()\n",
    "\n",
    "        if i % 1000 == 999:\n",
    "            print(f\"[{epoch + 1}, {i + 1}] loss: {running_loss / 1000:.3f}\")\n",
    "            running_loss = 0.0\n",
    "\n",
    "correct = 0\n",
    "total = 0\n",
    "with torch.no_grad():\n",
    "    for data in test_loader:\n",
    "        inputs, labels = data\n",
    "        outputs = lstm(inputs)\n",
    "        _, predicted = torch.max(outputs.data, 1)\n",
    "        total += labels.size(0)\n",
    "        correct += (predicted == labels).sum().item()\n",
    "\n",
    "print(f\"Accuracy: {correct / total * 100:.2f}%\")"
   ]
  },
  {
   "cell_type": "code",
   "execution_count": 42,
   "metadata": {},
   "outputs": [
    {
     "name": "stdout",
     "output_type": "stream",
     "text": [
      "Accuracy: 97.75%\n"
     ]
    }
   ],
   "source": [
    "#Train the SVM\n",
    "clf = SVC(gamma='auto')\n",
    "clf.fit(train_transform,train_set.targets)\n",
    "\n",
    "#Test the SVM \n",
    "test_pred = clf.predict(test_transform)\n",
    "labels = test_set.targets\n",
    "\n",
    "correct = 0\n",
    "for i in np.arange(len(test_pred)): \n",
    "    if test_pred[i] == labels[i]: \n",
    "        correct+=1\n",
    "print(f\"Accuracy: {correct / len(test_pred) * 100:.2f}%\")"
   ]
  },
  {
   "cell_type": "code",
   "execution_count": 43,
   "metadata": {},
   "outputs": [
    {
     "name": "stdout",
     "output_type": "stream",
     "text": [
      "Accuracy: 84.47%\n"
     ]
    }
   ],
   "source": [
    "#Train the decision tree\n",
    "clf = DecisionTreeClassifier(random_state=0)\n",
    "clf.fit(train_transform,train_set.targets)\n",
    "\n",
    "#Test the decision tree\n",
    "test_pred = clf.predict(test_transform)\n",
    "labels = test_set.targets\n",
    "\n",
    "correct = 0\n",
    "for i in np.arange(len(test_pred)): \n",
    "    if test_pred[i] == labels[i]: \n",
    "        correct+=1\n",
    "print(f\"Accuracy: {correct / len(test_pred) * 100:.2f}%\")"
   ]
  }
 ],
 "metadata": {
  "kernelspec": {
   "display_name": "base",
   "language": "python",
   "name": "python3"
  },
  "language_info": {
   "codemirror_mode": {
    "name": "ipython",
    "version": 3
   },
   "file_extension": ".py",
   "mimetype": "text/x-python",
   "name": "python",
   "nbconvert_exporter": "python",
   "pygments_lexer": "ipython3",
   "version": "3.9.12"
  },
  "orig_nbformat": 4
 },
 "nbformat": 4,
 "nbformat_minor": 2
}
